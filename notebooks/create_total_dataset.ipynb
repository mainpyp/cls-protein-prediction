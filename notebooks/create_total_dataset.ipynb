{
 "cells": [
  {
   "cell_type": "code",
   "execution_count": 8,
   "metadata": {
    "collapsed": true
   },
   "outputs": [],
   "source": [
    "import h5py\n",
    "import os\n",
    "import pathlib as pl\n",
    "\n",
    "path = pl.Path(\"..\", \"..\", \"data\", \"embeddings.h5\")  # adjust this path\n",
    "if os.path.isfile(path):\n",
    "    embeddings = h5py.File(path)"
   ]
  },
  {
   "cell_type": "code",
   "execution_count": 9,
   "outputs": [],
   "source": [
    "encoded_keys = list(embeddings.keys())"
   ],
   "metadata": {
    "collapsed": false,
    "pycharm": {
     "name": "#%%\n"
    }
   }
  },
  {
   "cell_type": "code",
   "execution_count": 4,
   "outputs": [
    {
     "name": "stderr",
     "output_type": "stream",
     "text": [
      "100%|██████████| 4/4 [00:00<00:00, 149.08it/s]\n"
     ]
    }
   ],
   "source": [
    "import sys\n",
    "import tqdm\n",
    "line_path = pl.Path(\"..\", \"..\",\"data\", \"labels\")  # adjust this path... it leads to the 3line files\n",
    "line_path_names = os.listdir(line_path)\n",
    "\n",
    "data = dict()\n",
    "for file in tqdm.tqdm(line_path_names):\n",
    "    file_path = pl.Path(line_path, file)\n",
    "\n",
    "    label = []\n",
    "    if \"Glob\" in file.split(\".\")[0]:\n",
    "        label.append(\"G\")\n",
    "    if \"SP\" in file.split(\".\")[0]:\n",
    "        label.append(\"SP\")\n",
    "    if \"TM\" in file.split(\".\")[0]:\n",
    "        label.append(\"TM\")\n",
    "\n",
    "    label = \"_\".join(label)\n",
    "\n",
    "    data[label] = dict()\n",
    "    with open(file_path, \"r\") as f:\n",
    "        prot_id = \"\"\n",
    "        prot_seq = \"\"\n",
    "        prot_annot = \"\"\n",
    "        for line_index, line in enumerate(f, 0):\n",
    "            if line == \"\":\n",
    "                pass\n",
    "\n",
    "            line = line.strip()\n",
    "            if line.startswith(\">\"):\n",
    "                prot_id = line.replace(\">\", \"\")\n",
    "                if \"|\" in line:\n",
    "                    prot_id = prot_id.split(\"|\")[0]\n",
    "                data[label][prot_id] = list()\n",
    "                continue\n",
    "\n",
    "            data[label][prot_id].append(line)"
   ],
   "metadata": {
    "collapsed": false,
    "pycharm": {
     "name": "#%%\n"
    }
   }
  },
  {
   "cell_type": "code",
   "execution_count": 10,
   "outputs": [],
   "source": [
    "import hashlib\n",
    "\n",
    "all_generated_hashes = []\n",
    "for label in data:\n",
    "    for protein in data[label]:\n",
    "        seq = data[label][protein][0].encode(\"UTF-8\")\n",
    "        hashed = hashlib.md5(seq).hexdigest()\n",
    "        data[label][protein].append(hashed)\n",
    "        all_generated_hashes.append(hashed)"
   ],
   "metadata": {
    "collapsed": false,
    "pycharm": {
     "name": "#%%\n"
    }
   }
  },
  {
   "cell_type": "code",
   "execution_count": 11,
   "outputs": [
    {
     "data": {
      "text/plain": "['0000349febc09c9ceee824616a5a1a28',\n '00005843e88e0893bd94af9d22cbaa58',\n '000122ad8c8fccfd2991bbd4a138d3c6',\n '0011ab0c11c7fea51fefcd039b1b69f5',\n '001df6914145e681a65b401d8bb5786e',\n '0022a6fb53681a7580a4d825014021f4',\n '0026dc4a3bfe07c8d2f0ebb94e113217',\n '004a69a3a09fe8e4395363671d2d8ee4',\n '00530f39a4e38c157efe7f85d5138759',\n '00656176bf43852ef189a234992d156d']"
     },
     "execution_count": 11,
     "metadata": {},
     "output_type": "execute_result"
    }
   ],
   "source": [
    "encoded_keys[:10]"
   ],
   "metadata": {
    "collapsed": false,
    "pycharm": {
     "name": "#%%\n"
    }
   }
  },
  {
   "cell_type": "code",
   "execution_count": 13,
   "outputs": [
    {
     "name": "stdout",
     "output_type": "stream",
     "text": [
      "0\n",
      "0\n"
     ]
    }
   ],
   "source": [
    "len(all_generated_hashes)\n",
    "len(encoded_keys)\n",
    "\n",
    "print(len(set(all_generated_hashes) - set(encoded_keys)))  # 0\n",
    "print(len(set(encoded_keys) - set(all_generated_hashes)))  # 0"
   ],
   "metadata": {
    "collapsed": false,
    "pycharm": {
     "name": "#%%\n"
    }
   }
  },
  {
   "cell_type": "code",
   "execution_count": 14,
   "outputs": [],
   "source": [
    "import pickle\n",
    "\n",
    "path = pl.Path('..', 'seq_anno_hash.pickle')\n",
    "with open(path, 'wb') as handle:\n",
    "    pickle.dump(data, handle, protocol=pickle.HIGHEST_PROTOCOL)"
   ],
   "metadata": {
    "collapsed": false,
    "pycharm": {
     "name": "#%%\n"
    }
   }
  },
  {
   "cell_type": "markdown",
   "source": [
    "### Structure"
   ],
   "metadata": {
    "collapsed": false,
    "pycharm": {
     "name": "#%% md\n"
    }
   }
  },
  {
   "cell_type": "code",
   "execution_count": 15,
   "outputs": [
    {
     "name": "stdout",
     "output_type": "stream",
     "text": [
      "dict_keys(['G_SP', 'G', 'SP_TM', 'TM'])\n",
      "['P38448', 'Q00594', 'P27888', 'P0CL03', 'P15034', 'P09961', 'P14898', 'Q9X758', 'Q7VAL5', 'P07642']  ...\n",
      "4\n"
     ]
    }
   ],
   "source": [
    "print(data.keys())\n",
    "print(list(data[\"G\"].keys())[:10], \" ...\")\n",
    "print(len(data[\"G\"][\"P38448\"]))"
   ],
   "metadata": {
    "collapsed": false,
    "pycharm": {
     "name": "#%%\n"
    }
   }
  },
  {
   "cell_type": "code",
   "execution_count": 17,
   "outputs": [
    {
     "data": {
      "text/plain": "dict_keys(['G_SP', 'G', 'SP_TM', 'TM'])"
     },
     "execution_count": 17,
     "metadata": {},
     "output_type": "execute_result"
    }
   ],
   "source": [
    "data.keys()"
   ],
   "metadata": {
    "collapsed": false,
    "pycharm": {
     "name": "#%%\n"
    }
   }
  },
  {
   "cell_type": "code",
   "execution_count": 18,
   "outputs": [],
   "source": [
    "import numpy as np\n",
    "from sklearn.model_selection import train_test_split\n",
    "import pandas as pd\n",
    "from itertools import chain"
   ],
   "metadata": {
    "collapsed": false,
    "pycharm": {
     "name": "#%%\n"
    }
   }
  },
  {
   "cell_type": "code",
   "execution_count": 20,
   "outputs": [],
   "source": [
    "label_prot = [list(map(lambda x:[x, key], list(data[key].keys()))) for key in data]\n",
    "label_prot = list(chain.from_iterable(label_prot))  # flattens the array"
   ],
   "metadata": {
    "collapsed": false,
    "pycharm": {
     "name": "#%%\n"
    }
   }
  },
  {
   "cell_type": "code",
   "execution_count": 21,
   "outputs": [],
   "source": [
    "label_prot_df = pd.DataFrame(label_prot, columns=[\"PROTS\", \"LABELS\"])"
   ],
   "metadata": {
    "collapsed": false,
    "pycharm": {
     "name": "#%%\n"
    }
   }
  },
  {
   "cell_type": "code",
   "execution_count": 22,
   "outputs": [],
   "source": [
    "X_train, X_test, y_train, y_test = train_test_split(label_prot_df[\"PROTS\"],\n",
    "                                                    label_prot_df[\"LABELS\"],\n",
    "                                                    test_size=0.3,\n",
    "                                                    train_size=0.7,\n",
    "                                                    stratify=label_prot_df[\"LABELS\"],\n",
    "                                                    random_state=42)"
   ],
   "metadata": {
    "collapsed": false,
    "pycharm": {
     "name": "#%%\n"
    }
   }
  },
  {
   "cell_type": "code",
   "execution_count": 23,
   "outputs": [
    {
     "data": {
      "text/plain": "<BarContainer object of 4 artists>"
     },
     "execution_count": 23,
     "metadata": {},
     "output_type": "execute_result"
    },
    {
     "data": {
      "text/plain": "<Figure size 432x288 with 2 Axes>",
      "image/png": "[encoded data removed]"
     },
     "metadata": {
      "needs_background": "light"
     },
     "output_type": "display_data"
    }
   ],
   "source": [
    "import matplotlib.pyplot as plt\n",
    "from collections import Counter\n",
    "\n",
    "train_dist = dict(Counter(y_train))\n",
    "test_dist = dict(Counter(y_test))\n",
    "\n",
    "fig, axs = plt.subplots(2, 1)\n",
    "axs[0].bar(train_dist.keys(), train_dist.values())\n",
    "axs[1].bar(test_dist.keys(), test_dist.values())"
   ],
   "metadata": {
    "collapsed": false,
    "pycharm": {
     "name": "#%%\n"
    }
   }
  }
 ],
 "metadata": {
  "kernelspec": {
   "display_name": "Python 3",
   "language": "python",
   "name": "python3"
  },
  "language_info": {
   "codemirror_mode": {
    "name": "ipython",
    "version": 2
   },
   "file_extension": ".py",
   "mimetype": "text/x-python",
   "name": "python",
   "nbconvert_exporter": "python",
   "pygments_lexer": "ipython2",
   "version": "2.7.6"
  }
 },
 "nbformat": 4,
 "nbformat_minor": 0
}