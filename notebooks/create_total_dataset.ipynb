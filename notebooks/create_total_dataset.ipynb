{
 "cells": [
  {
   "cell_type": "markdown",
   "source": [
    "# Dataset Preparation"
   ],
   "metadata": {
    "collapsed": false
   }
  },
  {
   "cell_type": "markdown",
   "source": [
    "### Imports"
   ],
   "metadata": {
    "collapsed": false
   }
  },
  {
   "cell_type": "code",
   "execution_count": 4,
   "metadata": {
    "collapsed": true
   },
   "outputs": [],
   "source": [
    "import h5py\n",
    "import os\n",
    "import pathlib as pl\n",
    "\n",
    "import pandas as pd\n",
    "import tqdm\n",
    "import pickle\n",
    "import pandas as pd\n",
    "from itertools import chain\n",
    "from sklearn.model_selection import train_test_split\n",
    "import matplotlib.pyplot as plt\n",
    "import numpy as np"
   ]
  },
  {
   "cell_type": "markdown",
   "source": [
    "### Read Files and Save Data Accordingly"
   ],
   "metadata": {
    "collapsed": false
   }
  },
  {
   "cell_type": "code",
   "execution_count": 7,
   "outputs": [],
   "source": [
    "path = pl.Path(\"../..\", \"data\", \"embeddings.h5\")  # adjust this path\n",
    "if os.path.isfile(path):\n",
    "    embeddings = h5py.File(path)"
   ],
   "metadata": {
    "collapsed": false,
    "pycharm": {
     "name": "#%%\n"
    }
   }
  },
  {
   "cell_type": "code",
   "execution_count": 8,
   "outputs": [],
   "source": [
    "encoded_keys = list(embeddings.keys())"
   ],
   "metadata": {
    "collapsed": false,
    "pycharm": {
     "name": "#%%\n"
    }
   }
  },
  {
   "cell_type": "code",
   "execution_count": 10,
   "outputs": [
    {
     "name": "stderr",
     "output_type": "stream",
     "text": [
      "100%|██████████| 4/4 [00:00<00:00, 71.28it/s]\n"
     ]
    }
   ],
   "source": [
    "\n",
    "line_path = pl.Path(\"../..\", \"data\", \"labels\")  # adjust this path... it leads to the 3line files\n",
    "line_path_names = os.listdir(line_path)\n",
    "\n",
    "data = dict()\n",
    "for file in tqdm.tqdm(line_path_names):\n",
    "    file_path = pl.Path(line_path, file)\n",
    "\n",
    "    label = []\n",
    "    if \"Glob\" in file.split(\".\")[0]:\n",
    "        label.append(\"G\")\n",
    "    if \"SP\" in file.split(\".\")[0]:\n",
    "        label.append(\"SP\")\n",
    "    if \"TM\" in file.split(\".\")[0]:\n",
    "        label.append(\"TM\")\n",
    "\n",
    "    label = \"_\".join(label)\n",
    "\n",
    "    data[label] = dict()\n",
    "    with open(file_path, \"r\") as f:\n",
    "        prot_id = \"\"\n",
    "        for line_index, line in enumerate(f, 0):\n",
    "            line = line.strip()\n",
    "            if line == \"\":\n",
    "                continue\n",
    "            if line.startswith(\">\"):\n",
    "                prot_id = line.replace(\">\", \"\")\n",
    "\n",
    "                if \"|\" in line:\n",
    "                    prot_id = prot_id.split(\"|\")[0]\n",
    "                data[label][prot_id] = list()\n",
    "                continue\n",
    "\n",
    "            data[label][prot_id].append(line)"
   ],
   "metadata": {
    "collapsed": false,
    "pycharm": {
     "name": "#%%\n"
    }
   }
  },
  {
   "cell_type": "code",
   "execution_count": 11,
   "outputs": [],
   "source": [
    "import hashlib\n",
    "\n",
    "all_generated_hashes = []\n",
    "for label in data:\n",
    "    for protein in data[label]:\n",
    "        seq = data[label][protein][0].encode(\"UTF-8\")\n",
    "        hashed = hashlib.md5(seq).hexdigest()\n",
    "        data[label][protein].append(hashed)\n",
    "        all_generated_hashes.append(hashed)"
   ],
   "metadata": {
    "collapsed": false,
    "pycharm": {
     "name": "#%%\n"
    }
   }
  },
  {
   "cell_type": "code",
   "execution_count": 12,
   "outputs": [
    {
     "name": "stdout",
     "output_type": "stream",
     "text": [
      "0\n",
      "0\n"
     ]
    }
   ],
   "source": [
    "len(all_generated_hashes)\n",
    "len(encoded_keys)\n",
    "\n",
    "print(len(set(all_generated_hashes) - set(encoded_keys)))  # 0\n",
    "print(len(set(encoded_keys) - set(all_generated_hashes)))  # 0"
   ],
   "metadata": {
    "collapsed": false,
    "pycharm": {
     "name": "#%%\n"
    }
   }
  },
  {
   "cell_type": "code",
   "execution_count": 18,
   "outputs": [],
   "source": [
    "path = pl.Path(\"../..\", \"data\", 'seq_anno_hash.pickle')\n",
    "with open(path, 'wb') as handle:\n",
    "    pickle.dump(data, handle, protocol=pickle.HIGHEST_PROTOCOL)"
   ],
   "metadata": {
    "collapsed": false,
    "pycharm": {
     "name": "#%%\n"
    }
   }
  },
  {
   "cell_type": "markdown",
   "source": [
    "### Structure"
   ],
   "metadata": {
    "collapsed": false,
    "pycharm": {
     "name": "#%% md\n"
    }
   }
  },
  {
   "cell_type": "code",
   "execution_count": 19,
   "outputs": [
    {
     "name": "stdout",
     "output_type": "stream",
     "text": [
      "dict_keys(['G_SP', 'G', 'SP_TM', 'TM'])\n",
      "['P38448', 'Q00594', 'P27888', 'P0CL03', 'P15034', 'P09961', 'P14898', 'Q9X758', 'Q7VAL5', 'P07642']  ...\n",
      "3\n"
     ]
    }
   ],
   "source": [
    "print(data.keys())\n",
    "print(list(data[\"G\"].keys())[:10], \" ...\")\n",
    "print(len(data[\"G\"][\"P38448\"]))"
   ],
   "metadata": {
    "collapsed": false,
    "pycharm": {
     "name": "#%%\n"
    }
   }
  },
  {
   "cell_type": "markdown",
   "source": [
    "### Train / Test Split"
   ],
   "metadata": {
    "collapsed": false
   }
  },
  {
   "cell_type": "markdown",
   "source": [],
   "metadata": {
    "collapsed": false
   }
  },
  {
   "cell_type": "code",
   "execution_count": 20,
   "outputs": [
    {
     "name": "stdout",
     "output_type": "stream",
     "text": [
      "     prot_id  label\n",
      "1240  P31716   G_SP\n",
      "2049  Q24537      G\n",
      "1660  Q9VWW0      G\n",
      "3495  Q0GGX2      G\n",
      "1260  P13423   G_SP\n",
      "...      ...    ...\n",
      "1801  P18146      G\n",
      "4276  Q21874  SP_TM\n",
      "2501  Q13415      G\n",
      "2687  Q9HGP0      G\n",
      "582   Q13093   G_SP\n",
      "\n",
      "[4638 rows x 2 columns]\n",
      "     prot_id label\n",
      "898   P13507  G_SP\n",
      "532   P08118  G_SP\n",
      "3871  P13375     G\n",
      "1500  Q38897     G\n",
      "3918  A5U654     G\n",
      "...      ...   ...\n",
      "4159  P31473     G\n",
      "1960  P49311     G\n",
      "3110  P41900     G\n",
      "88    P83886  G_SP\n",
      "1922  Q9DEN4     G\n",
      "\n",
      "[516 rows x 2 columns]\n"
     ]
    }
   ],
   "source": [
    "label_prot = [list(map(lambda x:[x,key], list(data[key].keys()))) for key in data]\n",
    "label_prot = list(chain.from_iterable(label_prot))\n",
    "label_prot = pd.DataFrame(label_prot, columns=[\"prot_id\", \"label\"])\n",
    "\n",
    "X_train, X_test = train_test_split(label_prot, test_size = 0.1, train_size=0.9, random_state=42, stratify=label_prot[\"label\"])\n",
    "print(X_train)\n",
    "print(X_test)"
   ],
   "metadata": {
    "collapsed": false,
    "pycharm": {
     "name": "#%%\n"
    }
   }
  },
  {
   "cell_type": "code",
   "execution_count": 21,
   "outputs": [
    {
     "data": {
      "text/plain": "<Figure size 432x288 with 2 Axes>",
      "image/png": "[encoded data removed]"
     },
     "metadata": {
      "needs_background": "light"
     },
     "output_type": "display_data"
    }
   ],
   "source": [
    "fig, ax = plt.subplots(1,2, tight_layout=True, sharex=True)\n",
    "ax[0].set(title=\"Train Split\")\n",
    "ax[1].set(title=\"Test Split\")\n",
    "ax[0].hist(X_train[\"label\"])\n",
    "ax[1].hist(X_test[\"label\"])\n",
    "plt.show()"
   ],
   "metadata": {
    "collapsed": false,
    "pycharm": {
     "name": "#%%\n"
    }
   }
  },
  {
   "cell_type": "markdown",
   "source": [
    "## Save test and train splits for models"
   ],
   "metadata": {
    "collapsed": false
   }
  },
  {
   "cell_type": "code",
   "execution_count": 24,
   "outputs": [],
   "source": [
    "X_train.to_csv(\"../data_splits/train_prot_id_labels.csv\",index=False)\n",
    "X_test.to_csv(\"../data_splits/test_prot_id_labels.csv\", index=False)"
   ],
   "metadata": {
    "collapsed": false,
    "pycharm": {
     "name": "#%%\n"
    }
   }
  }
 ],
 "metadata": {
  "kernelspec": {
   "display_name": "Python 3",
   "language": "python",
   "name": "python3"
  },
  "language_info": {
   "codemirror_mode": {
    "name": "ipython",
    "version": 2
   },
   "file_extension": ".py",
   "mimetype": "text/x-python",
   "name": "python",
   "nbconvert_exporter": "python",
   "pygments_lexer": "ipython2",
   "version": "2.7.6"
  }
 },
 "nbformat": 4,
 "nbformat_minor": 0
}